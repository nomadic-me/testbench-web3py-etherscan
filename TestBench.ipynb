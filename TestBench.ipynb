{
 "cells": [
  {
   "cell_type": "code",
   "execution_count": 1,
   "id": "25a23400-c8d3-4d65-a9e8-dc170e9bf1d4",
   "metadata": {},
   "outputs": [],
   "source": [
    "#Imports\n",
    "from web3 import Web3\n",
    "\n",
    "# to Convert epoch time to datetime using the datetime.fromtimestamp() function  \n",
    "import datetime  "
   ]
  },
  {
   "cell_type": "code",
   "execution_count": 2,
   "id": "a0acf6a6-3b7a-4622-b648-af429450970d",
   "metadata": {},
   "outputs": [],
   "source": [
    "############################################################\n",
    "# Conenct to Ethereum Mainnet\n",
    "## To Load the .env file with the INFURA_URL Endpoint\n",
    "import requests\n",
    "from dotenv import load_dotenv \n",
    "load_dotenv()\n",
    "#w3 = Web3(Web3.HTTPProvider(os.getenv(\"INFURA_URL\")))\n",
    "\n",
    "\n",
    "############################################################\n",
    "# Conenct to Truffle suite Ganache Localhost\n",
    "w3 = Web3(Web3.HTTPProvider(\"HTTP://127.0.0.1:7545\"))"
   ]
  },
  {
   "cell_type": "code",
   "execution_count": 7,
   "id": "465ba069-4f85-41d8-b67d-458539bca49a",
   "metadata": {},
   "outputs": [
    {
     "data": {
      "text/plain": [
       "AttributeDict({'number': 1,\n",
       " 'hash': HexBytes('0x338823e3427cfef8a590355f8f3ac79d892256b9f59e2d67c503d041c6649d68'),\n",
       " 'parentHash': HexBytes('0x7fcdee95937a78e583cc52ce1333f05672f96624bd2173e17ca6cb24e6728c77'),\n",
       " 'mixHash': HexBytes('0x0000000000000000000000000000000000000000000000000000000000000000'),\n",
       " 'nonce': HexBytes('0x0000000000000000'),\n",
       " 'sha3Uncles': HexBytes('0x1dcc4de8dec75d7aab85b567b6ccd41ad312451b948a7413f0a142fd40d49347'),\n",
       " 'logsBloom': HexBytes('0x00000000000000000000000000000000000000000000000000000000000000000000000000000000000000000000000000000000000000000000000000000000000000000000000000000000000000000000000000000000000000000000000000000000000000000000000000000000000000000000000000000000000000000000000000000000000000000000000000000000000000000000000000000000000000000000000000000000000000000000000000000000000000000000000000000000000000000000000000000000000000000000000000000000000000000000000000000000000000000000000000000000000000000000000000000000'),\n",
       " 'transactionsRoot': HexBytes('0xace1e944d61e00358c954eaf3eb0fb4fc56e5825acc103050e1b255575d6a1d0'),\n",
       " 'stateRoot': HexBytes('0xf0bf413b0f1ee760309f7a0a417c7bf1637dd24f7d88f868fc2b24910e9ee914'),\n",
       " 'receiptsRoot': HexBytes('0x056b23fbba480696b65fe5a59b8f2148a1299103c4f57df839233af2cf4ca2d2'),\n",
       " 'miner': '0x0000000000000000000000000000000000000000',\n",
       " 'difficulty': 0,\n",
       " 'totalDifficulty': 0,\n",
       " 'extraData': HexBytes('0x'),\n",
       " 'size': 1000,\n",
       " 'gasLimit': 6721975,\n",
       " 'gasUsed': 21000,\n",
       " 'timestamp': 1656596045,\n",
       " 'transactions': [HexBytes('0x084d9276c58e8fb8d21d44d069cbf29389a3609fc94dc396b1b8c015fe268b60')],\n",
       " 'uncles': []})"
      ]
     },
     "execution_count": 7,
     "metadata": {},
     "output_type": "execute_result"
    }
   ],
   "source": [
    "w3.eth.get_block('latest')"
   ]
  },
  {
   "cell_type": "code",
   "execution_count": 8,
   "id": "b9d1dd4d-cf84-4bb7-9330-0c092e74b81d",
   "metadata": {},
   "outputs": [
    {
     "name": "stdout",
     "output_type": "stream",
     "text": [
      "Given epoch time: 1656596045\n",
      "Converted Datetime: 2022-06-30 09:34:05\n"
     ]
    }
   ],
   "source": [
    "\n",
    "# given epoch time  \n",
    "epoch_time = w3.eth.get_block('latest')['timestamp']  \n",
    "  \n",
    "# using the datetime.fromtimestamp() function  \n",
    "date_time = datetime.datetime.fromtimestamp( epoch_time )  \n",
    "  \n",
    "# printing the value  \n",
    "print(\"Given epoch time:\", epoch_time)  \n",
    "print(\"Converted Datetime:\", date_time )  "
   ]
  },
  {
   "cell_type": "code",
   "execution_count": null,
   "id": "153eaf96-a803-4863-a9d3-c57fdeb6a314",
   "metadata": {},
   "outputs": [],
   "source": []
  }
 ],
 "metadata": {
  "kernelspec": {
   "display_name": "Python 3 (ipykernel)",
   "language": "python",
   "name": "python3"
  },
  "language_info": {
   "codemirror_mode": {
    "name": "ipython",
    "version": 3
   },
   "file_extension": ".py",
   "mimetype": "text/x-python",
   "name": "python",
   "nbconvert_exporter": "python",
   "pygments_lexer": "ipython3",
   "version": "3.7.7"
  }
 },
 "nbformat": 4,
 "nbformat_minor": 5
}
