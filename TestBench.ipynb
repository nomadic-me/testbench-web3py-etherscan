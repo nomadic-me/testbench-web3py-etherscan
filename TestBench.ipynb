{
 "cells": [
  {
   "cell_type": "code",
   "execution_count": 8,
   "id": "25a23400-c8d3-4d65-a9e8-dc170e9bf1d4",
   "metadata": {},
   "outputs": [],
   "source": [
    "#Imports\n",
    "from web3 import Web3\n",
    "\n",
    "# The error comes from a discrepancy in the block format between private geth network \n",
    "# (or a public test network like Rinkeby) and the main network.\n",
    "# You can work around this by adding a middleware to your Web3 object:\n",
    "from web3.middleware import geth_poa_middleware\n",
    "\n",
    "\n",
    "## To Load the .env file \n",
    "import os\n",
    "import requests\n",
    "from dotenv import load_dotenv \n",
    "\n",
    "# to Convert epoch time to datetime using the datetime.fromtimestamp() function  \n",
    "import datetime  "
   ]
  },
  {
   "cell_type": "code",
   "execution_count": 9,
   "id": "a0acf6a6-3b7a-4622-b648-af429450970d",
   "metadata": {},
   "outputs": [],
   "source": [
    "############################################################\n",
    "## To Load the .env file with the INFURA_URL Endpoint\n",
    "load_dotenv()\n",
    "\n",
    "# Conenct to Ethereum Mainnet\n",
    "#w3 = Web3(Web3.HTTPProvider(os.getenv(\"INFURA_URL\")))\n",
    "\n",
    "\n",
    "# connect to Rinkeby Network\n",
    "w3 = Web3(Web3.HTTPProvider(os.getenv(\"INFURA_URL_RINKEBY\")))\n",
    "w3.middleware_onion.inject(geth_poa_middleware, layer=0)\n",
    "\n",
    "\n",
    "\n",
    "############################################################\n",
    "# Conenct to Truffle suite Ganache Localhost\n",
    "#w3 = Web3(Web3.HTTPProvider(\"HTTP://127.0.0.1:7545\"))"
   ]
  },
  {
   "cell_type": "code",
   "execution_count": 10,
   "id": "465ba069-4f85-41d8-b67d-458539bca49a",
   "metadata": {},
   "outputs": [
    {
     "data": {
      "text/plain": [
       "AttributeDict({'baseFeePerGas': 8,\n",
       " 'difficulty': 1,\n",
       " 'proofOfAuthorityData': HexBytes('0xd883010a09846765746888676f312e31362e36856c696e757800000000000000cace3dfa7155485cd6e61db417583a5a27500fd2332316ef647874d3a29cb3976ed63f6cf1da5f7687b545f5e70553c2b69ee774d59635db8e67d71ecc6db28a00'),\n",
       " 'gasLimit': 29970705,\n",
       " 'gasUsed': 8490864,\n",
       " 'hash': HexBytes('0x476170370898593282aeda153e96b6c70fb5548bb35280aeb6cf2c1e26577ba8'),\n",
       " 'logsBloom': HexBytes('0x0437000022800000008000108002001024110000001000010581000110000a0a00000008400020000000200000000080800080000000200000c0000000260000000008814500000800000008000004221011000040000082000000000080420401a880800280480002a00800000008000004004000000080080250100c080a40200000000102140001e0810204000010000000080310005a04000040400000040229000008004004480800280080000200401280000098008002040040020011000600030804100000000000820000008018110004000410000110000082200000100010038100000460040084000000000000000040220020004100000c0800'),\n",
       " 'miner': '0x0000000000000000000000000000000000000000',\n",
       " 'mixHash': HexBytes('0x0000000000000000000000000000000000000000000000000000000000000000'),\n",
       " 'nonce': HexBytes('0x0000000000000000'),\n",
       " 'number': 10953625,\n",
       " 'parentHash': HexBytes('0x70aa8c33a8a55e1bb3ca575e88ee6ea46f2d2f65d14b2762374501eddd9ac7d1'),\n",
       " 'receiptsRoot': HexBytes('0x0613ed384ae601c6fd36872c0750f152ab95123cb5e08c77dd208c2e13aa8e9d'),\n",
       " 'sha3Uncles': HexBytes('0x1dcc4de8dec75d7aab85b567b6ccd41ad312451b948a7413f0a142fd40d49347'),\n",
       " 'size': 32133,\n",
       " 'stateRoot': HexBytes('0x7ca9fb50bc9a23992573fc172673dc9336bb7a92669fd2abcff11017b7ad839b'),\n",
       " 'timestamp': 1656761011,\n",
       " 'totalDifficulty': 17973625,\n",
       " 'transactions': [HexBytes('0x2a1dd4e4f9ccb900da734d039ae0e010508beecd2f280cb27a49e2970be82e67'),\n",
       "  HexBytes('0x20dc1834442d9c028b85afabb5f6f56fad3a5bb7bbc69648f4a982d5cbe744f1'),\n",
       "  HexBytes('0x5b61d030d0a1296c87a112ea663a4835fb26ac220bacc82f185f156e06ae0804'),\n",
       "  HexBytes('0xf13fdc3eb722f6ba70e92820e4950a8248dbee8ce1d60f44ade161e81c81a8ad'),\n",
       "  HexBytes('0xb669095fc151e305a1cb9e80a2a83c048fc5e9da6dde4d8d8efef2846ffb6438'),\n",
       "  HexBytes('0xd43f93a9dbb9de007d0b305a191433b6102f9a95a85f2cde0ec3c45b294231ea'),\n",
       "  HexBytes('0x58c91fee3aa2d7b1203f610d0d13d36e5e13cba1c364d9bbce326062c5377cb4'),\n",
       "  HexBytes('0x2c8d3645548907e029f91ec1d70efbf41078f65b6dba492cc6da3ff0cd9c5e93'),\n",
       "  HexBytes('0x5f5e3d38eb56df3cc381104db5b026b5971e0c885d4398483894d414b4f596bb'),\n",
       "  HexBytes('0xfe89b173f4905263ff6e64d2185222e64acac25eaed5846fe84872385df11ee2'),\n",
       "  HexBytes('0x92b5347329524be928cab71a2a2ddb29181564882c744b704e6a15512695402f'),\n",
       "  HexBytes('0x4ae24bc74886b41eaee71d803c73f52abfba367f583cfd20fab4642bcdbeb748'),\n",
       "  HexBytes('0x1c7f01c2b65fa83100d80b389856240e4c99f242a61343f5ecb9f5b3a06f8784'),\n",
       "  HexBytes('0x55193edfb7bd10c80055a538fabd2cb841b9b482e9172902d20cfcddcba6b53c'),\n",
       "  HexBytes('0x878618a8d1d916375e8ccf5ddb1a9772c63f7fb38d76063cd7c0b7b668300b7c'),\n",
       "  HexBytes('0x551f616e69439451ab916ff479ddc1a3fe49bee606b180d5d3c2b17f1ea2a91c'),\n",
       "  HexBytes('0xed89cb79eca70b82b0f9cb892d81f1bb8b3e449073642c93664506a850145a17'),\n",
       "  HexBytes('0x13db2da488dc437c45184d9264c063c94a4855b1ff7bc83c5d1e46a476e98d3e'),\n",
       "  HexBytes('0x5796d1f7f5249d653aad50ae1821ce3bf2ba6d0becc95c3d8357d4e552564bf1')],\n",
       " 'transactionsRoot': HexBytes('0x6b0c7a444006be15c85bba6bd9732761e03a180289ef1273d4553951b1d02f87'),\n",
       " 'uncles': []})"
      ]
     },
     "execution_count": 10,
     "metadata": {},
     "output_type": "execute_result"
    }
   ],
   "source": [
    "w3.eth.get_block('latest')"
   ]
  },
  {
   "cell_type": "code",
   "execution_count": 8,
   "id": "b9d1dd4d-cf84-4bb7-9330-0c092e74b81d",
   "metadata": {},
   "outputs": [
    {
     "name": "stdout",
     "output_type": "stream",
     "text": [
      "Given epoch time: 1656596045\n",
      "Converted Datetime: 2022-06-30 09:34:05\n"
     ]
    }
   ],
   "source": [
    "\n",
    "# given epoch time  \n",
    "epoch_time = w3.eth.get_block('latest')['timestamp']  \n",
    "  \n",
    "# using the datetime.fromtimestamp() function  \n",
    "date_time = datetime.datetime.fromtimestamp( epoch_time )  \n",
    "  \n",
    "# printing the value  \n",
    "print(\"Given epoch time:\", epoch_time)  \n",
    "print(\"Converted Datetime:\", date_time )  "
   ]
  },
  {
   "cell_type": "code",
   "execution_count": null,
   "id": "153eaf96-a803-4863-a9d3-c57fdeb6a314",
   "metadata": {},
   "outputs": [],
   "source": []
  }
 ],
 "metadata": {
  "kernelspec": {
   "display_name": "Python 3 (ipykernel)",
   "language": "python",
   "name": "python3"
  },
  "language_info": {
   "codemirror_mode": {
    "name": "ipython",
    "version": 3
   },
   "file_extension": ".py",
   "mimetype": "text/x-python",
   "name": "python",
   "nbconvert_exporter": "python",
   "pygments_lexer": "ipython3",
   "version": "3.8.13"
  }
 },
 "nbformat": 4,
 "nbformat_minor": 5
}
